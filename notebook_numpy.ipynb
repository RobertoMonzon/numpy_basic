{
 "cells": [
  {
   "cell_type": "markdown",
   "id": "89b8f734",
   "metadata": {},
   "source": [
    "# \"Numpy\""
   ]
  },
  {
   "cell_type": "markdown",
   "id": "71c47af8",
   "metadata": {},
   "source": [
    "### Import library numpy"
   ]
  },
  {
   "cell_type": "code",
   "execution_count": 1,
   "id": "ba1ed4ec",
   "metadata": {},
   "outputs": [],
   "source": [
    "import numpy as np"
   ]
  },
  {
   "cell_type": "markdown",
   "id": "5f563d8c",
   "metadata": {},
   "source": [
    "### Numpy version"
   ]
  },
  {
   "cell_type": "code",
   "execution_count": 48,
   "id": "a5e904ce",
   "metadata": {},
   "outputs": [
    {
     "data": {
      "text/plain": [
       "'1.24.3'"
      ]
     },
     "execution_count": 48,
     "metadata": {},
     "output_type": "execute_result"
    }
   ],
   "source": [
    "np.__version__"
   ]
  },
  {
   "cell_type": "markdown",
   "id": "d7980917",
   "metadata": {},
   "source": [
    "### Numpy config"
   ]
  },
  {
   "cell_type": "code",
   "execution_count": 49,
   "id": "50905d75",
   "metadata": {
    "collapsed": true
   },
   "outputs": [
    {
     "name": "stdout",
     "output_type": "stream",
     "text": [
      "blas_armpl_info:\n",
      "  NOT AVAILABLE\n",
      "blas_mkl_info:\n",
      "    libraries = ['mkl_rt']\n",
      "    library_dirs = ['C:/Users/ro_be/anaconda3\\\\Library\\\\lib']\n",
      "    define_macros = [('SCIPY_MKL_H', None), ('HAVE_CBLAS', None)]\n",
      "    include_dirs = ['C:/Users/ro_be/anaconda3\\\\Library\\\\include']\n",
      "blas_opt_info:\n",
      "    libraries = ['mkl_rt']\n",
      "    library_dirs = ['C:/Users/ro_be/anaconda3\\\\Library\\\\lib']\n",
      "    define_macros = [('SCIPY_MKL_H', None), ('HAVE_CBLAS', None)]\n",
      "    include_dirs = ['C:/Users/ro_be/anaconda3\\\\Library\\\\include']\n",
      "lapack_armpl_info:\n",
      "  NOT AVAILABLE\n",
      "lapack_mkl_info:\n",
      "    libraries = ['mkl_rt']\n",
      "    library_dirs = ['C:/Users/ro_be/anaconda3\\\\Library\\\\lib']\n",
      "    define_macros = [('SCIPY_MKL_H', None), ('HAVE_CBLAS', None)]\n",
      "    include_dirs = ['C:/Users/ro_be/anaconda3\\\\Library\\\\include']\n",
      "lapack_opt_info:\n",
      "    libraries = ['mkl_rt']\n",
      "    library_dirs = ['C:/Users/ro_be/anaconda3\\\\Library\\\\lib']\n",
      "    define_macros = [('SCIPY_MKL_H', None), ('HAVE_CBLAS', None)]\n",
      "    include_dirs = ['C:/Users/ro_be/anaconda3\\\\Library\\\\include']\n",
      "Supported SIMD extensions in this NumPy install:\n",
      "    baseline = SSE,SSE2,SSE3\n",
      "    found = SSSE3,SSE41,POPCNT,SSE42,AVX,F16C,FMA3,AVX2,AVX512F,AVX512CD,AVX512_SKX,AVX512_CLX,AVX512_CNL,AVX512_ICL\n",
      "    not found = \n"
     ]
    }
   ],
   "source": [
    "np.show_config()"
   ]
  },
  {
   "cell_type": "markdown",
   "id": "07d1e0fe",
   "metadata": {},
   "source": [
    "### Get help"
   ]
  },
  {
   "cell_type": "markdown",
   "id": "dd59d1a0",
   "metadata": {},
   "source": [
    "Get the information typing of any function"
   ]
  },
  {
   "cell_type": "code",
   "execution_count": 50,
   "id": "1264e877",
   "metadata": {},
   "outputs": [
    {
     "name": "stdout",
     "output_type": "stream",
     "text": [
      "array(object, dtype=None, *, copy=True, order='K', subok=False, ndmin=0,\n",
      "      like=None)\n",
      "\n",
      "Create an array.\n",
      "\n",
      "Parameters\n",
      "----------\n",
      "object : array_like\n",
      "    An array, any object exposing the array interface, an object whose\n",
      "    __array__ method returns an array, or any (nested) sequence.\n",
      "    If object is a scalar, a 0-dimensional array containing object is\n",
      "    returned.\n",
      "dtype : data-type, optional\n",
      "    The desired data-type for the array.  If not given, then the type will\n",
      "    be determined as the minimum type required to hold the objects in the\n",
      "    sequence.\n",
      "copy : bool, optional\n",
      "    If true (default), then the object is copied.  Otherwise, a copy will\n",
      "    only be made if __array__ returns a copy, if obj is a nested sequence,\n",
      "    or if a copy is needed to satisfy any of the other requirements\n",
      "    (`dtype`, `order`, etc.).\n",
      "order : {'K', 'A', 'C', 'F'}, optional\n",
      "    Specify the memory layout of the array. If object is not an array, the\n",
      "    newly created array will be in C order (row major) unless 'F' is\n",
      "    specified, in which case it will be in Fortran order (column major).\n",
      "    If object is an array the following holds.\n",
      "\n",
      "    ===== ========= ===================================================\n",
      "    order  no copy                     copy=True\n",
      "    ===== ========= ===================================================\n",
      "    'K'   unchanged F & C order preserved, otherwise most similar order\n",
      "    'A'   unchanged F order if input is F and not C, otherwise C order\n",
      "    'C'   C order   C order\n",
      "    'F'   F order   F order\n",
      "    ===== ========= ===================================================\n",
      "\n",
      "    When ``copy=False`` and a copy is made for other reasons, the result is\n",
      "    the same as if ``copy=True``, with some exceptions for 'A', see the\n",
      "    Notes section. The default order is 'K'.\n",
      "subok : bool, optional\n",
      "    If True, then sub-classes will be passed-through, otherwise\n",
      "    the returned array will be forced to be a base-class array (default).\n",
      "ndmin : int, optional\n",
      "    Specifies the minimum number of dimensions that the resulting\n",
      "    array should have.  Ones will be prepended to the shape as\n",
      "    needed to meet this requirement.\n",
      "like : array_like, optional\n",
      "    Reference object to allow the creation of arrays which are not\n",
      "    NumPy arrays. If an array-like passed in as ``like`` supports\n",
      "    the ``__array_function__`` protocol, the result will be defined\n",
      "    by it. In this case, it ensures the creation of an array object\n",
      "    compatible with that passed in via this argument.\n",
      "\n",
      "    .. versionadded:: 1.20.0\n",
      "\n",
      "Returns\n",
      "-------\n",
      "out : ndarray\n",
      "    An array object satisfying the specified requirements.\n",
      "\n",
      "See Also\n",
      "--------\n",
      "empty_like : Return an empty array with shape and type of input.\n",
      "ones_like : Return an array of ones with shape and type of input.\n",
      "zeros_like : Return an array of zeros with shape and type of input.\n",
      "full_like : Return a new array with shape of input filled with value.\n",
      "empty : Return a new uninitialized array.\n",
      "ones : Return a new array setting values to one.\n",
      "zeros : Return a new array setting values to zero.\n",
      "full : Return a new array of given shape filled with value.\n",
      "\n",
      "\n",
      "Notes\n",
      "-----\n",
      "When order is 'A' and `object` is an array in neither 'C' nor 'F' order,\n",
      "and a copy is forced by a change in dtype, then the order of the result is\n",
      "not necessarily 'C' as expected. This is likely a bug.\n",
      "\n",
      "Examples\n",
      "--------\n",
      ">>> np.array([1, 2, 3])\n",
      "array([1, 2, 3])\n",
      "\n",
      "Upcasting:\n",
      "\n",
      ">>> np.array([1, 2, 3.0])\n",
      "array([ 1.,  2.,  3.])\n",
      "\n",
      "More than one dimension:\n",
      "\n",
      ">>> np.array([[1, 2], [3, 4]])\n",
      "array([[1, 2],\n",
      "       [3, 4]])\n",
      "\n",
      "Minimum dimensions 2:\n",
      "\n",
      ">>> np.array([1, 2, 3], ndmin=2)\n",
      "array([[1, 2, 3]])\n",
      "\n",
      "Type provided:\n",
      "\n",
      ">>> np.array([1, 2, 3], dtype=complex)\n",
      "array([ 1.+0.j,  2.+0.j,  3.+0.j])\n",
      "\n",
      "Data-type consisting of more than one element:\n",
      "\n",
      ">>> x = np.array([(1,2),(3,4)],dtype=[('a','<i4'),('b','<i4')])\n",
      ">>> x['a']\n",
      "array([1, 3])\n",
      "\n",
      "Creating an array from sub-classes:\n",
      "\n",
      ">>> np.array(np.mat('1 2; 3 4'))\n",
      "array([[1, 2],\n",
      "       [3, 4]])\n",
      "\n",
      ">>> np.array(np.mat('1 2; 3 4'), subok=True)\n",
      "matrix([[1, 2],\n",
      "        [3, 4]])\n"
     ]
    }
   ],
   "source": [
    "np.info(np.array)"
   ]
  },
  {
   "cell_type": "markdown",
   "id": "abc44eb9",
   "metadata": {},
   "source": [
    "# Array vs List"
   ]
  },
  {
   "cell_type": "markdown",
   "id": "1510bccd",
   "metadata": {},
   "source": [
    "### Define the list and the array"
   ]
  },
  {
   "cell_type": "markdown",
   "id": "f77ea860",
   "metadata": {},
   "source": [
    "###### List"
   ]
  },
  {
   "cell_type": "code",
   "execution_count": 2,
   "id": "0471ee3c",
   "metadata": {},
   "outputs": [
    {
     "data": {
      "text/plain": [
       "[1, 2, 3]"
      ]
     },
     "execution_count": 2,
     "metadata": {},
     "output_type": "execute_result"
    }
   ],
   "source": [
    "list_1=[1,2,3]\n",
    "list_1"
   ]
  },
  {
   "cell_type": "markdown",
   "id": "2008eb5d",
   "metadata": {},
   "source": [
    "###### Array"
   ]
  },
  {
   "cell_type": "code",
   "execution_count": 4,
   "id": "dfd48e77",
   "metadata": {},
   "outputs": [
    {
     "data": {
      "text/plain": [
       "array([4, 5, 6])"
      ]
     },
     "execution_count": 4,
     "metadata": {},
     "output_type": "execute_result"
    }
   ],
   "source": [
    "array_1=np.array([4,5,6])\n",
    "array_1"
   ]
  },
  {
   "cell_type": "markdown",
   "id": "4ab1b2c6",
   "metadata": {},
   "source": [
    "### Print each element"
   ]
  },
  {
   "cell_type": "markdown",
   "id": "d5614f41",
   "metadata": {},
   "source": [
    "###### List"
   ]
  },
  {
   "cell_type": "code",
   "execution_count": 6,
   "id": "6ef39652",
   "metadata": {
    "scrolled": true
   },
   "outputs": [
    {
     "name": "stdout",
     "output_type": "stream",
     "text": [
      "1\n",
      "2\n",
      "3\n"
     ]
    }
   ],
   "source": [
    "for e in list_1:\n",
    "    print (e)"
   ]
  },
  {
   "cell_type": "markdown",
   "id": "d45f7a99",
   "metadata": {},
   "source": [
    "###### Array"
   ]
  },
  {
   "cell_type": "code",
   "execution_count": 8,
   "id": "ed21670e",
   "metadata": {},
   "outputs": [
    {
     "name": "stdout",
     "output_type": "stream",
     "text": [
      "4\n",
      "5\n",
      "6\n"
     ]
    }
   ],
   "source": [
    "for e in array_1:\n",
    "    print(e)"
   ]
  },
  {
   "cell_type": "markdown",
   "id": "665197b7",
   "metadata": {},
   "source": [
    "### Append new element"
   ]
  },
  {
   "cell_type": "markdown",
   "id": "74460e45",
   "metadata": {},
   "source": [
    "###### List"
   ]
  },
  {
   "cell_type": "markdown",
   "id": "68a82ad5",
   "metadata": {},
   "source": [
    "Original list"
   ]
  },
  {
   "cell_type": "code",
   "execution_count": 10,
   "id": "2df1f5b3",
   "metadata": {},
   "outputs": [
    {
     "data": {
      "text/plain": [
       "[1, 2, 3]"
      ]
     },
     "execution_count": 10,
     "metadata": {},
     "output_type": "execute_result"
    }
   ],
   "source": [
    "list_1"
   ]
  },
  {
   "cell_type": "markdown",
   "id": "8accf7d5",
   "metadata": {},
   "source": [
    "New list"
   ]
  },
  {
   "cell_type": "code",
   "execution_count": 12,
   "id": "5d6b1895",
   "metadata": {
    "scrolled": false
   },
   "outputs": [
    {
     "data": {
      "text/plain": [
       "[1, 2, 3, 4]"
      ]
     },
     "execution_count": 12,
     "metadata": {},
     "output_type": "execute_result"
    }
   ],
   "source": [
    "list_1.append(4)\n",
    "list_1"
   ]
  },
  {
   "cell_type": "markdown",
   "id": "3d1a69c0",
   "metadata": {},
   "source": [
    "It's possible to add a new element just \"summing\" the original list + a new element between brackets"
   ]
  },
  {
   "cell_type": "code",
   "execution_count": 14,
   "id": "04301723",
   "metadata": {},
   "outputs": [
    {
     "data": {
      "text/plain": [
       "[1, 2, 3, 4, 5]"
      ]
     },
     "execution_count": 14,
     "metadata": {},
     "output_type": "execute_result"
    }
   ],
   "source": [
    "list_1 + [5]"
   ]
  },
  {
   "cell_type": "markdown",
   "id": "0c5ee6ed",
   "metadata": {},
   "source": [
    "###### Array"
   ]
  },
  {
   "cell_type": "markdown",
   "id": "42cd0cf1",
   "metadata": {},
   "source": [
    "Isn't possible to use append in an array and using the + will sum the number we are trying to add to each number in the array."
   ]
  },
  {
   "cell_type": "markdown",
   "id": "f2a60b94",
   "metadata": {},
   "source": [
    "Original array"
   ]
  },
  {
   "cell_type": "code",
   "execution_count": 15,
   "id": "1162afb6",
   "metadata": {},
   "outputs": [
    {
     "data": {
      "text/plain": [
       "array([4, 5, 6])"
      ]
     },
     "execution_count": 15,
     "metadata": {},
     "output_type": "execute_result"
    }
   ],
   "source": [
    "array_1"
   ]
  },
  {
   "cell_type": "code",
   "execution_count": 16,
   "id": "e56cf150",
   "metadata": {},
   "outputs": [
    {
     "data": {
      "text/plain": [
       "array([ 8,  9, 10])"
      ]
     },
     "execution_count": 16,
     "metadata": {},
     "output_type": "execute_result"
    }
   ],
   "source": [
    "array_1 + np.array([4])"
   ]
  },
  {
   "cell_type": "markdown",
   "id": "26ffe903",
   "metadata": {},
   "source": [
    "That's called \"broadcasting\""
   ]
  },
  {
   "cell_type": "markdown",
   "id": "bb924abb",
   "metadata": {},
   "source": [
    "## Maths"
   ]
  },
  {
   "cell_type": "markdown",
   "id": "eb4aeadc",
   "metadata": {},
   "source": [
    "#### Sum"
   ]
  },
  {
   "cell_type": "markdown",
   "id": "9085e986",
   "metadata": {},
   "source": [
    "###### List  + List"
   ]
  },
  {
   "cell_type": "markdown",
   "id": "9eb79165",
   "metadata": {},
   "source": [
    "Original list"
   ]
  },
  {
   "cell_type": "code",
   "execution_count": 18,
   "id": "50347483",
   "metadata": {},
   "outputs": [
    {
     "data": {
      "text/plain": [
       "[1, 2, 3, 4]"
      ]
     },
     "execution_count": 18,
     "metadata": {},
     "output_type": "execute_result"
    }
   ],
   "source": [
    "list_1"
   ]
  },
  {
   "cell_type": "markdown",
   "id": "c57fc1c9",
   "metadata": {},
   "source": [
    "New list"
   ]
  },
  {
   "cell_type": "code",
   "execution_count": 23,
   "id": "9d7deb8e",
   "metadata": {
    "scrolled": false
   },
   "outputs": [
    {
     "data": {
      "text/plain": [
       "[1, 2, 3, 4, 5, 6, 7, 8]"
      ]
     },
     "execution_count": 23,
     "metadata": {},
     "output_type": "execute_result"
    }
   ],
   "source": [
    "list_2= list_1 + [5,6,7,8]\n",
    "list_2"
   ]
  },
  {
   "cell_type": "markdown",
   "id": "42420d60",
   "metadata": {},
   "source": [
    "If we sum two list the new list will be the result of the second list appended to the first list"
   ]
  },
  {
   "cell_type": "markdown",
   "id": "3b4dd2d5",
   "metadata": {},
   "source": [
    "Is necessary to import the library operator and use the function add in order to sum two list "
   ]
  },
  {
   "cell_type": "code",
   "execution_count": 26,
   "id": "70c4b164",
   "metadata": {},
   "outputs": [],
   "source": [
    "from operator import add"
   ]
  },
  {
   "cell_type": "code",
   "execution_count": 28,
   "id": "14d7a152",
   "metadata": {},
   "outputs": [
    {
     "data": {
      "text/plain": [
       "[6, 8, 10, 12]"
      ]
     },
     "execution_count": 28,
     "metadata": {},
     "output_type": "execute_result"
    }
   ],
   "source": [
    "list_3=list(map(add,list_1,[5,6,7,8]))\n",
    "list_3"
   ]
  },
  {
   "cell_type": "code",
   "execution_count": 37,
   "id": "fbc2dc77",
   "metadata": {
    "scrolled": false
   },
   "outputs": [
    {
     "data": {
      "text/plain": [
       "[6, 8, 10, 12]"
      ]
     },
     "execution_count": 37,
     "metadata": {},
     "output_type": "execute_result"
    }
   ],
   "source": [
    "[sum(e) for e in zip(list_1,[5,6,7,8])]"
   ]
  },
  {
   "cell_type": "markdown",
   "id": "32512304",
   "metadata": {},
   "source": [
    "###### Array + Array"
   ]
  },
  {
   "cell_type": "markdown",
   "id": "ee361c16",
   "metadata": {},
   "source": [
    "Original array"
   ]
  },
  {
   "cell_type": "code",
   "execution_count": 20,
   "id": "c8ca7402",
   "metadata": {
    "scrolled": true
   },
   "outputs": [
    {
     "data": {
      "text/plain": [
       "array([4, 5, 6])"
      ]
     },
     "execution_count": 20,
     "metadata": {},
     "output_type": "execute_result"
    }
   ],
   "source": [
    "array_1"
   ]
  },
  {
   "cell_type": "markdown",
   "id": "3837083f",
   "metadata": {},
   "source": [
    "New array"
   ]
  },
  {
   "cell_type": "code",
   "execution_count": 22,
   "id": "58d44ce3",
   "metadata": {},
   "outputs": [
    {
     "data": {
      "text/plain": [
       "array([11, 13, 15])"
      ]
     },
     "execution_count": 22,
     "metadata": {},
     "output_type": "execute_result"
    }
   ],
   "source": [
    "array_2 = array_1 + np.array([7,8,9])\n",
    "array_2"
   ]
  },
  {
   "cell_type": "markdown",
   "id": "eed5b450",
   "metadata": {},
   "source": [
    "Is not possible to sum a new array if the length is not the same"
   ]
  },
  {
   "cell_type": "markdown",
   "id": "77fc4bfa",
   "metadata": {},
   "source": [
    "### Basic  math operations"
   ]
  },
  {
   "cell_type": "markdown",
   "id": "115c5fa1",
   "metadata": {},
   "source": [
    "#### List"
   ]
  },
  {
   "cell_type": "markdown",
   "id": "b924d963",
   "metadata": {},
   "source": [
    "Original list:"
   ]
  },
  {
   "cell_type": "code",
   "execution_count": 38,
   "id": "ba755de6",
   "metadata": {},
   "outputs": [
    {
     "data": {
      "text/plain": [
       "[1, 2, 3, 4]"
      ]
     },
     "execution_count": 38,
     "metadata": {},
     "output_type": "execute_result"
    }
   ],
   "source": [
    "list_1"
   ]
  },
  {
   "cell_type": "markdown",
   "id": "62268ce1",
   "metadata": {},
   "source": [
    "In order to add a number to each element it is necessary to create an empty list and use a for loop to add the number to each element and append it to the new list and is the same with all the operators"
   ]
  },
  {
   "cell_type": "markdown",
   "id": "afd114a7",
   "metadata": {},
   "source": [
    "Sum"
   ]
  },
  {
   "cell_type": "code",
   "execution_count": 39,
   "id": "f6ebe981",
   "metadata": {
    "scrolled": true
   },
   "outputs": [
    {
     "data": {
      "text/plain": [
       "[4, 5, 6, 7]"
      ]
     },
     "execution_count": 39,
     "metadata": {},
     "output_type": "execute_result"
    }
   ],
   "source": [
    "list_sum=[]\n",
    "for e in list_1:\n",
    "    list_sum.append(e + 3)\n",
    "list_sum"
   ]
  },
  {
   "cell_type": "markdown",
   "id": "f778a2a4",
   "metadata": {},
   "source": [
    "Rest"
   ]
  },
  {
   "cell_type": "code",
   "execution_count": 42,
   "id": "d173023d",
   "metadata": {},
   "outputs": [
    {
     "data": {
      "text/plain": [
       "[0, 1, 2, 3]"
      ]
     },
     "execution_count": 42,
     "metadata": {},
     "output_type": "execute_result"
    }
   ],
   "source": [
    "list_rest=[]\n",
    "for e in list_1:\n",
    "    list_rest.append(e - 1)\n",
    "list_rest"
   ]
  },
  {
   "cell_type": "markdown",
   "id": "9a664b59",
   "metadata": {},
   "source": [
    "Multiply"
   ]
  },
  {
   "cell_type": "code",
   "execution_count": 45,
   "id": "55a3a826",
   "metadata": {},
   "outputs": [
    {
     "data": {
      "text/plain": [
       "[2, 4, 6, 8]"
      ]
     },
     "execution_count": 45,
     "metadata": {},
     "output_type": "execute_result"
    }
   ],
   "source": [
    "list_mult=[]\n",
    "for e in list_1:\n",
    "    list_mult.append(e * 2)\n",
    "list_mult"
   ]
  },
  {
   "cell_type": "markdown",
   "id": "f332e210",
   "metadata": {},
   "source": [
    "Division"
   ]
  },
  {
   "cell_type": "code",
   "execution_count": 46,
   "id": "6fb44c91",
   "metadata": {},
   "outputs": [
    {
     "data": {
      "text/plain": [
       "[0.5, 1.0, 1.5, 2.0]"
      ]
     },
     "execution_count": 46,
     "metadata": {},
     "output_type": "execute_result"
    }
   ],
   "source": [
    "list_div=[]\n",
    "for e in list_1:\n",
    "    list_div.append(e / 2)\n",
    "list_div"
   ]
  },
  {
   "cell_type": "markdown",
   "id": "44472170",
   "metadata": {},
   "source": [
    "Power"
   ]
  },
  {
   "cell_type": "code",
   "execution_count": 47,
   "id": "6cd686f4",
   "metadata": {},
   "outputs": [
    {
     "data": {
      "text/plain": [
       "[1, 4, 9, 16]"
      ]
     },
     "execution_count": 47,
     "metadata": {},
     "output_type": "execute_result"
    }
   ],
   "source": [
    "list_pow=[]\n",
    "for e in list_1:\n",
    "    list_pow.append(e ** 2)\n",
    "list_pow"
   ]
  },
  {
   "cell_type": "markdown",
   "id": "8adfc8c9",
   "metadata": {},
   "source": [
    "Square root"
   ]
  },
  {
   "cell_type": "markdown",
   "id": "304ae18a",
   "metadata": {},
   "source": [
    "In order to use the square root function we gotta import the math library"
   ]
  },
  {
   "cell_type": "code",
   "execution_count": 48,
   "id": "3a1ff9ce",
   "metadata": {},
   "outputs": [],
   "source": [
    "import math"
   ]
  },
  {
   "cell_type": "code",
   "execution_count": 50,
   "id": "e50c86d1",
   "metadata": {
    "scrolled": true
   },
   "outputs": [
    {
     "data": {
      "text/plain": [
       "[1.0, 1.4142135623730951, 1.7320508075688772, 2.0]"
      ]
     },
     "execution_count": 50,
     "metadata": {},
     "output_type": "execute_result"
    }
   ],
   "source": [
    "list_sqrt=[]\n",
    "for e in list_1:\n",
    "    list_sqrt.append(math.sqrt(e))\n",
    "list_sqrt"
   ]
  },
  {
   "cell_type": "markdown",
   "id": "497fa1f5",
   "metadata": {},
   "source": [
    "Exponential"
   ]
  },
  {
   "cell_type": "code",
   "execution_count": 51,
   "id": "e7328ac8",
   "metadata": {},
   "outputs": [
    {
     "data": {
      "text/plain": [
       "[2.718281828459045, 7.38905609893065, 20.085536923187668, 54.598150033144236]"
      ]
     },
     "execution_count": 51,
     "metadata": {},
     "output_type": "execute_result"
    }
   ],
   "source": [
    "list_exp=[]\n",
    "for e in list_1:\n",
    "    list_exp.append(math.exp(e))\n",
    "list_exp"
   ]
  },
  {
   "cell_type": "markdown",
   "id": "18468387",
   "metadata": {},
   "source": [
    "###### NOTE:\n",
    "<p>\n",
    "There is a lot of math operation we can use but essentialy all are the same"
   ]
  },
  {
   "cell_type": "markdown",
   "id": "74a3202e",
   "metadata": {},
   "source": [
    "###### Array"
   ]
  },
  {
   "cell_type": "markdown",
   "id": "eb263056",
   "metadata": {},
   "source": [
    "Original array"
   ]
  },
  {
   "cell_type": "code",
   "execution_count": 52,
   "id": "d22f31d8",
   "metadata": {},
   "outputs": [
    {
     "data": {
      "text/plain": [
       "array([4, 5, 6])"
      ]
     },
     "execution_count": 52,
     "metadata": {},
     "output_type": "execute_result"
    }
   ],
   "source": [
    "array_1"
   ]
  },
  {
   "cell_type": "markdown",
   "id": "724fa750",
   "metadata": {},
   "source": [
    "Sum"
   ]
  },
  {
   "cell_type": "code",
   "execution_count": 53,
   "id": "92a8e24c",
   "metadata": {},
   "outputs": [
    {
     "data": {
      "text/plain": [
       "array([6, 7, 8])"
      ]
     },
     "execution_count": 53,
     "metadata": {},
     "output_type": "execute_result"
    }
   ],
   "source": [
    "array_1 + 2"
   ]
  },
  {
   "cell_type": "markdown",
   "id": "948b918c",
   "metadata": {},
   "source": [
    "Rest"
   ]
  },
  {
   "cell_type": "code",
   "execution_count": 55,
   "id": "246be0a6",
   "metadata": {},
   "outputs": [
    {
     "data": {
      "text/plain": [
       "array([3, 4, 5])"
      ]
     },
     "execution_count": 55,
     "metadata": {},
     "output_type": "execute_result"
    }
   ],
   "source": [
    "array_1 - 1"
   ]
  },
  {
   "cell_type": "markdown",
   "id": "6fdf3bd5",
   "metadata": {},
   "source": [
    "Multiplication"
   ]
  },
  {
   "cell_type": "code",
   "execution_count": 56,
   "id": "07883c88",
   "metadata": {},
   "outputs": [
    {
     "data": {
      "text/plain": [
       "array([12, 15, 18])"
      ]
     },
     "execution_count": 56,
     "metadata": {},
     "output_type": "execute_result"
    }
   ],
   "source": [
    "array_1 * 3"
   ]
  },
  {
   "cell_type": "markdown",
   "id": "6737e14f",
   "metadata": {},
   "source": [
    "Division"
   ]
  },
  {
   "cell_type": "code",
   "execution_count": 57,
   "id": "9cdeedb1",
   "metadata": {},
   "outputs": [
    {
     "data": {
      "text/plain": [
       "array([2. , 2.5, 3. ])"
      ]
     },
     "execution_count": 57,
     "metadata": {},
     "output_type": "execute_result"
    }
   ],
   "source": [
    "array_1 / 2"
   ]
  },
  {
   "cell_type": "markdown",
   "id": "653d58d1",
   "metadata": {},
   "source": [
    "Power"
   ]
  },
  {
   "cell_type": "code",
   "execution_count": 58,
   "id": "877bb6e2",
   "metadata": {
    "scrolled": false
   },
   "outputs": [
    {
     "data": {
      "text/plain": [
       "array([16, 25, 36])"
      ]
     },
     "execution_count": 58,
     "metadata": {},
     "output_type": "execute_result"
    }
   ],
   "source": [
    "array_1 ** 2"
   ]
  },
  {
   "cell_type": "markdown",
   "id": "b20550d9",
   "metadata": {},
   "source": [
    "alternatively we can use the power function included in the numpy library"
   ]
  },
  {
   "cell_type": "code",
   "execution_count": 61,
   "id": "94240514",
   "metadata": {
    "scrolled": true
   },
   "outputs": [
    {
     "data": {
      "text/plain": [
       "array([16, 25, 36], dtype=int32)"
      ]
     },
     "execution_count": 61,
     "metadata": {},
     "output_type": "execute_result"
    }
   ],
   "source": [
    "np.power(array_1,2)"
   ]
  },
  {
   "cell_type": "markdown",
   "id": "8eeb295a",
   "metadata": {},
   "source": [
    "Exponential"
   ]
  },
  {
   "cell_type": "code",
   "execution_count": 62,
   "id": "fe2f46c4",
   "metadata": {},
   "outputs": [
    {
     "data": {
      "text/plain": [
       "array([ 54.59815003, 148.4131591 , 403.42879349])"
      ]
     },
     "execution_count": 62,
     "metadata": {},
     "output_type": "execute_result"
    }
   ],
   "source": [
    "np.exp(array_1)"
   ]
  },
  {
   "cell_type": "markdown",
   "id": "3f177de5",
   "metadata": {},
   "source": [
    "###### NOTE:\n",
    "<p>\n",
    "There is a lot of functions available in the numpy library"
   ]
  },
  {
   "cell_type": "markdown",
   "id": "e8b86fcc",
   "metadata": {},
   "source": [
    "# The dot product"
   ]
  },
  {
   "cell_type": "markdown",
   "id": "ae42910f",
   "metadata": {},
   "source": [
    "###### Define two arrays"
   ]
  },
  {
   "cell_type": "code",
   "execution_count": 63,
   "id": "8bb66576",
   "metadata": {},
   "outputs": [
    {
     "data": {
      "text/plain": [
       "array([1, 2])"
      ]
     },
     "execution_count": 63,
     "metadata": {},
     "output_type": "execute_result"
    }
   ],
   "source": [
    "array_a=np.array([1,2])\n",
    "array_a"
   ]
  },
  {
   "cell_type": "code",
   "execution_count": 64,
   "id": "0dee612e",
   "metadata": {
    "scrolled": true
   },
   "outputs": [
    {
     "data": {
      "text/plain": [
       "array([3, 4])"
      ]
     },
     "execution_count": 64,
     "metadata": {},
     "output_type": "execute_result"
    }
   ],
   "source": [
    "array_b=np.array([3,4])\n",
    "array_b"
   ]
  },
  {
   "cell_type": "markdown",
   "id": "dd8c384f",
   "metadata": {},
   "source": [
    "To use the dot function, declare an empty variable"
   ]
  },
  {
   "cell_type": "code",
   "execution_count": 65,
   "id": "899b55fc",
   "metadata": {},
   "outputs": [
    {
     "data": {
      "text/plain": [
       "11"
      ]
     },
     "execution_count": 65,
     "metadata": {},
     "output_type": "execute_result"
    }
   ],
   "source": [
    "dot=0\n",
    "for a,b in zip(array_a,array_b):\n",
    "    dot += a*b\n",
    "dot"
   ]
  },
  {
   "cell_type": "markdown",
   "id": "e6b4fd68",
   "metadata": {},
   "source": [
    "alternatively"
   ]
  },
  {
   "cell_type": "code",
   "execution_count": 67,
   "id": "2b2e6c64",
   "metadata": {},
   "outputs": [
    {
     "data": {
      "text/plain": [
       "11"
      ]
     },
     "execution_count": 67,
     "metadata": {},
     "output_type": "execute_result"
    }
   ],
   "source": [
    "dot=0\n",
    "for e in range(len(array_a)):\n",
    "    dot+= array_a[e]*array_b[e]\n",
    "dot"
   ]
  },
  {
   "cell_type": "markdown",
   "id": "1d29880d",
   "metadata": {},
   "source": [
    "Or"
   ]
  },
  {
   "cell_type": "code",
   "execution_count": 68,
   "id": "55aa013e",
   "metadata": {
    "scrolled": true
   },
   "outputs": [
    {
     "data": {
      "text/plain": [
       "11"
      ]
     },
     "execution_count": 68,
     "metadata": {},
     "output_type": "execute_result"
    }
   ],
   "source": [
    "dot=np.sum(array_a*array_b)\n",
    "dot"
   ]
  },
  {
   "cell_type": "code",
   "execution_count": 69,
   "id": "a799c71d",
   "metadata": {
    "scrolled": true
   },
   "outputs": [
    {
     "data": {
      "text/plain": [
       "11"
      ]
     },
     "execution_count": 69,
     "metadata": {},
     "output_type": "execute_result"
    }
   ],
   "source": [
    "(array_a * array_b).sum()"
   ]
  },
  {
   "cell_type": "markdown",
   "id": "bed20887",
   "metadata": {},
   "source": [
    "Usinig the function dot in the numpy library"
   ]
  },
  {
   "cell_type": "code",
   "execution_count": 71,
   "id": "130adf3f",
   "metadata": {},
   "outputs": [
    {
     "data": {
      "text/plain": [
       "11"
      ]
     },
     "execution_count": 71,
     "metadata": {},
     "output_type": "execute_result"
    }
   ],
   "source": [
    "np.dot(array_a,array_b)"
   ]
  },
  {
   "cell_type": "markdown",
   "id": "1283227b",
   "metadata": {},
   "source": [
    "Or"
   ]
  },
  {
   "cell_type": "code",
   "execution_count": 74,
   "id": "4c2380f7",
   "metadata": {},
   "outputs": [
    {
     "data": {
      "text/plain": [
       "11"
      ]
     },
     "execution_count": 74,
     "metadata": {},
     "output_type": "execute_result"
    }
   ],
   "source": [
    "array_a.dot(array_b)"
   ]
  },
  {
   "cell_type": "code",
   "execution_count": 75,
   "id": "a8b88d5b",
   "metadata": {},
   "outputs": [
    {
     "data": {
      "text/plain": [
       "11"
      ]
     },
     "execution_count": 75,
     "metadata": {},
     "output_type": "execute_result"
    }
   ],
   "source": [
    "array_b.dot(array_a)"
   ]
  },
  {
   "cell_type": "code",
   "execution_count": 76,
   "id": "001591e9",
   "metadata": {
    "scrolled": true
   },
   "outputs": [
    {
     "data": {
      "text/plain": [
       "11"
      ]
     },
     "execution_count": 76,
     "metadata": {},
     "output_type": "execute_result"
    }
   ],
   "source": [
    "array_a @ array_b"
   ]
  },
  {
   "cell_type": "code",
   "execution_count": 77,
   "id": "855f966b",
   "metadata": {
    "scrolled": true
   },
   "outputs": [
    {
     "data": {
      "text/plain": [
       "11"
      ]
     },
     "execution_count": 77,
     "metadata": {},
     "output_type": "execute_result"
    }
   ],
   "source": [
    "array_b @ array_a"
   ]
  },
  {
   "cell_type": "markdown",
   "id": "552d1f87",
   "metadata": {},
   "source": [
    "# Speed test"
   ]
  },
  {
   "cell_type": "markdown",
   "id": "6d9260bb",
   "metadata": {},
   "source": [
    "### Import libraries"
   ]
  },
  {
   "cell_type": "code",
   "execution_count": 78,
   "id": "ed66439a",
   "metadata": {},
   "outputs": [],
   "source": [
    "from datetime import datetime"
   ]
  },
  {
   "cell_type": "markdown",
   "id": "d7c7de86",
   "metadata": {},
   "source": [
    "###### Define variables"
   ]
  },
  {
   "cell_type": "code",
   "execution_count": 79,
   "id": "07941308",
   "metadata": {},
   "outputs": [],
   "source": [
    "a=np.random.randn(100)\n",
    "b=np.random.randn(100)\n",
    "t=100000"
   ]
  },
  {
   "cell_type": "markdown",
   "id": "3973f472",
   "metadata": {},
   "source": [
    "###### List"
   ]
  },
  {
   "cell_type": "markdown",
   "id": "f770fdb3",
   "metadata": {},
   "source": [
    "Define the for loop that we will use to calculate de dot product in a list"
   ]
  },
  {
   "cell_type": "code",
   "execution_count": 80,
   "id": "69ec2936",
   "metadata": {},
   "outputs": [],
   "source": [
    "def slow_dot_product(a,b):\n",
    "    result=0\n",
    "    for e,f in zip(a,b):\n",
    "        result += e*f\n",
    "        return result"
   ]
  },
  {
   "cell_type": "markdown",
   "id": "68b4facc",
   "metadata": {},
   "source": [
    "Create a variable to save the current time and then rest the time when the code execute the for loop - the time time it finished"
   ]
  },
  {
   "cell_type": "code",
   "execution_count": 87,
   "id": "ebbce727",
   "metadata": {},
   "outputs": [
    {
     "data": {
      "text/plain": [
       "0.076801"
      ]
     },
     "execution_count": 87,
     "metadata": {},
     "output_type": "execute_result"
    }
   ],
   "source": [
    "t0=datetime.now()\n",
    "for i in range(t):\n",
    "    slow_dot_product(a,b)\n",
    "dt1=datetime.now()-t0\n",
    "dt1.total_seconds()"
   ]
  },
  {
   "cell_type": "markdown",
   "id": "c0c86739",
   "metadata": {},
   "source": [
    "###### Array"
   ]
  },
  {
   "cell_type": "markdown",
   "id": "b06c05ed",
   "metadata": {},
   "source": [
    "Create a variable to save the current time and then rest the time when the code execute the for loop - the time time it finished"
   ]
  },
  {
   "cell_type": "code",
   "execution_count": 86,
   "id": "c6047ec1",
   "metadata": {
    "scrolled": true
   },
   "outputs": [
    {
     "data": {
      "text/plain": [
       "0.088078"
      ]
     },
     "execution_count": 86,
     "metadata": {},
     "output_type": "execute_result"
    }
   ],
   "source": [
    "t0= datetime.now()\n",
    "for i in range(t):\n",
    "    a.dot(b)\n",
    "dt2=datetime.now()-t0\n",
    "dt2.total_seconds()"
   ]
  },
  {
   "cell_type": "markdown",
   "id": "8487c454",
   "metadata": {},
   "source": [
    "Make a division to calculate the diference in seconds"
   ]
  },
  {
   "cell_type": "code",
   "execution_count": 95,
   "id": "eee0ae6b",
   "metadata": {
    "scrolled": true
   },
   "outputs": [
    {
     "data": {
      "text/plain": [
       "1.3073889845460536"
      ]
     },
     "execution_count": 95,
     "metadata": {},
     "output_type": "execute_result"
    }
   ],
   "source": [
    "dt1.total_seconds()/dt2.total_seconds()"
   ]
  },
  {
   "cell_type": "markdown",
   "id": "4b603a95",
   "metadata": {},
   "source": [
    "###### Run the code at the same time to calculate it"
   ]
  },
  {
   "cell_type": "code",
   "execution_count": 94,
   "id": "b1991e69",
   "metadata": {},
   "outputs": [
    {
     "data": {
      "text/plain": [
       "1.3073889845460536"
      ]
     },
     "execution_count": 94,
     "metadata": {},
     "output_type": "execute_result"
    }
   ],
   "source": [
    "t0=datetime.now()\n",
    "for i in range(t):\n",
    "    slow_dot_product(a,b)\n",
    "dt1=datetime.now()-t0\n",
    "\n",
    "t0= datetime.now()\n",
    "for i in range(t):\n",
    "    a.dot(b)\n",
    "dt2=datetime.now()-t0\n",
    "\n",
    "dt1.total_seconds()/dt2.total_seconds()"
   ]
  },
  {
   "cell_type": "markdown",
   "id": "0fe605d9",
   "metadata": {},
   "source": [
    "# Matrices"
   ]
  },
  {
   "cell_type": "markdown",
   "id": "e8e7831f",
   "metadata": {},
   "source": [
    "How would you represent a matrix without numpy? "
   ]
  },
  {
   "cell_type": "markdown",
   "id": "b4a2529b",
   "metadata": {},
   "source": [
    "###### Doing a list of list"
   ]
  },
  {
   "cell_type": "code",
   "execution_count": 96,
   "id": "0b7bd165",
   "metadata": {
    "scrolled": true
   },
   "outputs": [
    {
     "data": {
      "text/plain": [
       "[[1, 2], [3, 4]]"
      ]
     },
     "execution_count": 96,
     "metadata": {},
     "output_type": "execute_result"
    }
   ],
   "source": [
    "L=[[1,2],[3,4]]\n",
    "L"
   ]
  },
  {
   "cell_type": "markdown",
   "id": "170fd4a2",
   "metadata": {},
   "source": [
    "To access to an specific value just type it as a regular list, for example we want the 2 in the first list"
   ]
  },
  {
   "cell_type": "code",
   "execution_count": 97,
   "id": "314f08ac",
   "metadata": {},
   "outputs": [
    {
     "data": {
      "text/plain": [
       "2"
      ]
     },
     "execution_count": 97,
     "metadata": {},
     "output_type": "execute_result"
    }
   ],
   "source": [
    "L[0][1]"
   ]
  },
  {
   "cell_type": "markdown",
   "id": "0758acf8",
   "metadata": {},
   "source": [
    "###### Numpy array"
   ]
  },
  {
   "cell_type": "code",
   "execution_count": 99,
   "id": "faad3ffe",
   "metadata": {
    "scrolled": true
   },
   "outputs": [
    {
     "data": {
      "text/plain": [
       "array([[1, 2],\n",
       "       [3, 4]])"
      ]
     },
     "execution_count": 99,
     "metadata": {},
     "output_type": "execute_result"
    }
   ],
   "source": [
    "A=np.array([[1,2],[3,4]])\n",
    "A"
   ]
  },
  {
   "cell_type": "markdown",
   "id": "4bc29492",
   "metadata": {},
   "source": [
    "To access to an specific value just type it as a regular list, for example we want the 2 in the first list"
   ]
  },
  {
   "cell_type": "code",
   "execution_count": 100,
   "id": "9204ad79",
   "metadata": {},
   "outputs": [
    {
     "data": {
      "text/plain": [
       "2"
      ]
     },
     "execution_count": 100,
     "metadata": {},
     "output_type": "execute_result"
    }
   ],
   "source": [
    "A[0][1]"
   ]
  },
  {
   "cell_type": "markdown",
   "id": "c8ab74fa",
   "metadata": {},
   "source": [
    "Or"
   ]
  },
  {
   "cell_type": "code",
   "execution_count": 102,
   "id": "e9f17ada",
   "metadata": {},
   "outputs": [
    {
     "data": {
      "text/plain": [
       "2"
      ]
     },
     "execution_count": 102,
     "metadata": {},
     "output_type": "execute_result"
    }
   ],
   "source": [
    "A[0,1]"
   ]
  },
  {
   "cell_type": "markdown",
   "id": "e61dd1da",
   "metadata": {},
   "source": [
    "Select one column"
   ]
  },
  {
   "cell_type": "code",
   "execution_count": 104,
   "id": "897eb926",
   "metadata": {
    "scrolled": true
   },
   "outputs": [
    {
     "data": {
      "text/plain": [
       "array([1, 3])"
      ]
     },
     "execution_count": 104,
     "metadata": {},
     "output_type": "execute_result"
    }
   ],
   "source": [
    "A[:,0]"
   ]
  },
  {
   "cell_type": "markdown",
   "id": "a9683c96",
   "metadata": {},
   "source": [
    "use A.T to print a 2x2 array"
   ]
  },
  {
   "cell_type": "code",
   "execution_count": 107,
   "id": "039bfa9e",
   "metadata": {
    "scrolled": true
   },
   "outputs": [
    {
     "data": {
      "text/plain": [
       "array([[1, 3],\n",
       "       [2, 4]])"
      ]
     },
     "execution_count": 107,
     "metadata": {},
     "output_type": "execute_result"
    }
   ],
   "source": [
    "A.T"
   ]
  },
  {
   "cell_type": "markdown",
   "id": "5966429d",
   "metadata": {},
   "source": [
    "### Maths"
   ]
  },
  {
   "cell_type": "markdown",
   "id": "047ecd3d",
   "metadata": {},
   "source": [
    "Can be used in both list and array"
   ]
  },
  {
   "cell_type": "markdown",
   "id": "30148560",
   "metadata": {},
   "source": [
    "###### Exponential"
   ]
  },
  {
   "cell_type": "code",
   "execution_count": 108,
   "id": "11481fb7",
   "metadata": {},
   "outputs": [
    {
     "data": {
      "text/plain": [
       "array([[ 2.71828183,  7.3890561 ],\n",
       "       [20.08553692, 54.59815003]])"
      ]
     },
     "execution_count": 108,
     "metadata": {},
     "output_type": "execute_result"
    }
   ],
   "source": [
    "np.exp(A)"
   ]
  },
  {
   "cell_type": "code",
   "execution_count": 109,
   "id": "7166186e",
   "metadata": {},
   "outputs": [
    {
     "data": {
      "text/plain": [
       "array([[ 2.71828183,  7.3890561 ],\n",
       "       [20.08553692, 54.59815003]])"
      ]
     },
     "execution_count": 109,
     "metadata": {},
     "output_type": "execute_result"
    }
   ],
   "source": [
    "np.exp(L)"
   ]
  },
  {
   "cell_type": "markdown",
   "id": "39bfd120",
   "metadata": {},
   "source": [
    "###### Square Root"
   ]
  },
  {
   "cell_type": "code",
   "execution_count": 110,
   "id": "5c2e0e09",
   "metadata": {},
   "outputs": [
    {
     "data": {
      "text/plain": [
       "array([[1.        , 1.41421356],\n",
       "       [1.73205081, 2.        ]])"
      ]
     },
     "execution_count": 110,
     "metadata": {},
     "output_type": "execute_result"
    }
   ],
   "source": [
    "np.sqrt(A)"
   ]
  },
  {
   "cell_type": "code",
   "execution_count": 111,
   "id": "74c8733a",
   "metadata": {},
   "outputs": [
    {
     "data": {
      "text/plain": [
       "array([[1.        , 1.41421356],\n",
       "       [1.73205081, 2.        ]])"
      ]
     },
     "execution_count": 111,
     "metadata": {},
     "output_type": "execute_result"
    }
   ],
   "source": [
    "np.sqrt(L)"
   ]
  },
  {
   "cell_type": "markdown",
   "id": "5f3f7516",
   "metadata": {},
   "source": [
    "###### Multiply arrays"
   ]
  },
  {
   "cell_type": "markdown",
   "id": "8665d4e4",
   "metadata": {},
   "source": [
    "Create a new array to multiply"
   ]
  },
  {
   "cell_type": "code",
   "execution_count": 114,
   "id": "731cde3f",
   "metadata": {},
   "outputs": [
    {
     "data": {
      "text/plain": [
       "array([[1, 2, 3],\n",
       "       [4, 5, 6]])"
      ]
     },
     "execution_count": 114,
     "metadata": {},
     "output_type": "execute_result"
    }
   ],
   "source": [
    "B=np.array([[1,2,3],[4,5,6]])\n",
    "B"
   ]
  },
  {
   "cell_type": "markdown",
   "id": "98c235da",
   "metadata": {},
   "source": [
    "Array A"
   ]
  },
  {
   "cell_type": "code",
   "execution_count": 115,
   "id": "cc5a2255",
   "metadata": {},
   "outputs": [
    {
     "data": {
      "text/plain": [
       "array([[1, 2],\n",
       "       [3, 4]])"
      ]
     },
     "execution_count": 115,
     "metadata": {},
     "output_type": "execute_result"
    }
   ],
   "source": [
    "A"
   ]
  },
  {
   "cell_type": "markdown",
   "id": "90ee0451",
   "metadata": {},
   "source": [
    "Multiply A*B"
   ]
  },
  {
   "cell_type": "code",
   "execution_count": 117,
   "id": "fe6f4c71",
   "metadata": {},
   "outputs": [
    {
     "data": {
      "text/plain": [
       "array([[ 9, 12, 15],\n",
       "       [19, 26, 33]])"
      ]
     },
     "execution_count": 117,
     "metadata": {},
     "output_type": "execute_result"
    }
   ],
   "source": [
    "A.dot(B)"
   ]
  },
  {
   "cell_type": "markdown",
   "id": "43e8a180",
   "metadata": {},
   "source": [
    "The array has to match the number of columns x num of files"
   ]
  },
  {
   "cell_type": "markdown",
   "id": "544b6f24",
   "metadata": {},
   "source": [
    "# Solving linear Systems"
   ]
  },
  {
   "cell_type": "markdown",
   "id": "b6542116",
   "metadata": {},
   "source": [
    "### Define the arrays"
   ]
  },
  {
   "cell_type": "code",
   "execution_count": 4,
   "id": "fd19e9ed",
   "metadata": {},
   "outputs": [],
   "source": [
    "A=np.array([[1,1],[1.5,4]])\n",
    "B=np.array([2200,5050])"
   ]
  },
  {
   "cell_type": "code",
   "execution_count": 5,
   "id": "5771d228",
   "metadata": {},
   "outputs": [
    {
     "data": {
      "text/plain": [
       "array([[1. , 1. ],\n",
       "       [1.5, 4. ]])"
      ]
     },
     "execution_count": 5,
     "metadata": {},
     "output_type": "execute_result"
    }
   ],
   "source": [
    "A"
   ]
  },
  {
   "cell_type": "code",
   "execution_count": 6,
   "id": "0dc6dc68",
   "metadata": {
    "scrolled": true
   },
   "outputs": [
    {
     "data": {
      "text/plain": [
       "array([2200, 5050])"
      ]
     },
     "execution_count": 6,
     "metadata": {},
     "output_type": "execute_result"
    }
   ],
   "source": [
    "B"
   ]
  },
  {
   "cell_type": "markdown",
   "id": "1568fbc1",
   "metadata": {},
   "source": [
    "### Solve function"
   ]
  },
  {
   "cell_type": "code",
   "execution_count": 8,
   "id": "ddce9f91",
   "metadata": {
    "scrolled": true
   },
   "outputs": [
    {
     "data": {
      "text/plain": [
       "array([1500.,  700.])"
      ]
     },
     "execution_count": 8,
     "metadata": {},
     "output_type": "execute_result"
    }
   ],
   "source": [
    "np.linalg.solve(A,B)"
   ]
  },
  {
   "cell_type": "markdown",
   "id": "ac612705",
   "metadata": {},
   "source": [
    "### Manually"
   ]
  },
  {
   "cell_type": "code",
   "execution_count": 9,
   "id": "45315237",
   "metadata": {},
   "outputs": [
    {
     "data": {
      "text/plain": [
       "array([1500.,  700.])"
      ]
     },
     "execution_count": 9,
     "metadata": {},
     "output_type": "execute_result"
    }
   ],
   "source": [
    "np.linalg.inv(A).dot(B)"
   ]
  },
  {
   "cell_type": "markdown",
   "id": "8a0fa704",
   "metadata": {},
   "source": [
    "# Generating data"
   ]
  },
  {
   "cell_type": "markdown",
   "id": "9ed08562",
   "metadata": {},
   "source": [
    "### Zeros"
   ]
  },
  {
   "cell_type": "code",
   "execution_count": 11,
   "id": "6b7a30ad",
   "metadata": {},
   "outputs": [
    {
     "data": {
      "text/plain": [
       "array([[0., 0., 0.],\n",
       "       [0., 0., 0.]])"
      ]
     },
     "execution_count": 11,
     "metadata": {},
     "output_type": "execute_result"
    }
   ],
   "source": [
    "np.zeros((2,3))"
   ]
  },
  {
   "cell_type": "markdown",
   "id": "23dbcdde",
   "metadata": {},
   "source": [
    "### Ones"
   ]
  },
  {
   "cell_type": "code",
   "execution_count": 13,
   "id": "9a227d64",
   "metadata": {},
   "outputs": [
    {
     "data": {
      "text/plain": [
       "array([[1., 1., 1., 1., 1.],\n",
       "       [1., 1., 1., 1., 1.],\n",
       "       [1., 1., 1., 1., 1.],\n",
       "       [1., 1., 1., 1., 1.],\n",
       "       [1., 1., 1., 1., 1.]])"
      ]
     },
     "execution_count": 13,
     "metadata": {},
     "output_type": "execute_result"
    }
   ],
   "source": [
    "np.ones((5,5))"
   ]
  },
  {
   "cell_type": "markdown",
   "id": "210081cb",
   "metadata": {},
   "source": [
    "### Identity"
   ]
  },
  {
   "cell_type": "code",
   "execution_count": 18,
   "id": "80831f8f",
   "metadata": {},
   "outputs": [
    {
     "data": {
      "text/plain": [
       "array([[1., 0., 0., 0., 0., 0.],\n",
       "       [0., 1., 0., 0., 0., 0.],\n",
       "       [0., 0., 1., 0., 0., 0.],\n",
       "       [0., 0., 0., 1., 0., 0.],\n",
       "       [0., 0., 0., 0., 1., 0.],\n",
       "       [0., 0., 0., 0., 0., 1.]])"
      ]
     },
     "execution_count": 18,
     "metadata": {},
     "output_type": "execute_result"
    }
   ],
   "source": [
    "np.identity(6)"
   ]
  },
  {
   "cell_type": "code",
   "execution_count": 20,
   "id": "c5aae0e2",
   "metadata": {
    "scrolled": true
   },
   "outputs": [
    {
     "data": {
      "text/plain": [
       "array([[1., 0., 0., 0., 0., 0.],\n",
       "       [0., 1., 0., 0., 0., 0.],\n",
       "       [0., 0., 1., 0., 0., 0.],\n",
       "       [0., 0., 0., 1., 0., 0.],\n",
       "       [0., 0., 0., 0., 1., 0.],\n",
       "       [0., 0., 0., 0., 0., 1.]])"
      ]
     },
     "execution_count": 20,
     "metadata": {},
     "output_type": "execute_result"
    }
   ],
   "source": [
    "np.eye(6)"
   ]
  },
  {
   "cell_type": "markdown",
   "id": "7203e819",
   "metadata": {},
   "source": [
    "### Random number"
   ]
  },
  {
   "cell_type": "code",
   "execution_count": 21,
   "id": "8d77acf8",
   "metadata": {},
   "outputs": [
    {
     "data": {
      "text/plain": [
       "0.6771723319874257"
      ]
     },
     "execution_count": 21,
     "metadata": {},
     "output_type": "execute_result"
    }
   ],
   "source": [
    "np.random.random()"
   ]
  },
  {
   "cell_type": "code",
   "execution_count": 23,
   "id": "6c717efe",
   "metadata": {},
   "outputs": [
    {
     "data": {
      "text/plain": [
       "array([[0.08965937, 0.08921876, 0.42846923],\n",
       "       [0.09193641, 0.26779466, 0.49157068]])"
      ]
     },
     "execution_count": 23,
     "metadata": {},
     "output_type": "execute_result"
    }
   ],
   "source": [
    "np.random.random((2,3))"
   ]
  },
  {
   "cell_type": "markdown",
   "id": "0e9bf39d",
   "metadata": {},
   "source": [
    "### Random number mixing negative and positive values"
   ]
  },
  {
   "cell_type": "code",
   "execution_count": 24,
   "id": "141c77a0",
   "metadata": {},
   "outputs": [
    {
     "data": {
      "text/plain": [
       "array([[ 0.188831  , -0.90349207, -0.68044042],\n",
       "       [ 1.224147  , -0.97503051, -2.67590001]])"
      ]
     },
     "execution_count": 24,
     "metadata": {},
     "output_type": "execute_result"
    }
   ],
   "source": [
    "np.random.randn(2,3)"
   ]
  },
  {
   "cell_type": "markdown",
   "id": "270fc495",
   "metadata": {},
   "source": [
    "### Random integer numbers"
   ]
  },
  {
   "cell_type": "code",
   "execution_count": 44,
   "id": "66132b83",
   "metadata": {
    "scrolled": false
   },
   "outputs": [
    {
     "data": {
      "text/plain": [
       "array([[83, 91, 65, 86, 82],\n",
       "       [62, 74, 95, 76, 69],\n",
       "       [91, 90, 93, 82, 69],\n",
       "       [96, 71, 98, 72, 63],\n",
       "       [80, 61, 75, 74, 76]])"
      ]
     },
     "execution_count": 44,
     "metadata": {},
     "output_type": "execute_result"
    }
   ],
   "source": [
    "np.random.randint(60,100,size=(5,5))"
   ]
  },
  {
   "cell_type": "code",
   "execution_count": 42,
   "id": "36de3088",
   "metadata": {},
   "outputs": [
    {
     "data": {
      "text/plain": [
       "array([[97, 69, 24, 90, 70],\n",
       "       [74, 36,  4, 62, 95],\n",
       "       [ 5, 51, 18, 58, 95],\n",
       "       [93, 19, 16,  3, 81],\n",
       "       [52, 94, 10, 36, 63]])"
      ]
     },
     "execution_count": 42,
     "metadata": {},
     "output_type": "execute_result"
    }
   ],
   "source": [
    "np.random.choice(100,size=(5,5))"
   ]
  },
  {
   "cell_type": "markdown",
   "id": "19fda8e2",
   "metadata": {},
   "source": [
    "### Mean,variance and stardard deviation"
   ]
  },
  {
   "cell_type": "code",
   "execution_count": 34,
   "id": "2787f328",
   "metadata": {},
   "outputs": [],
   "source": [
    "R=np.random.rand(10000)"
   ]
  },
  {
   "cell_type": "markdown",
   "id": "14606248",
   "metadata": {},
   "source": [
    "###### Mean"
   ]
  },
  {
   "cell_type": "code",
   "execution_count": 35,
   "id": "06a56eb6",
   "metadata": {},
   "outputs": [
    {
     "data": {
      "text/plain": [
       "0.4991562028241187"
      ]
     },
     "execution_count": 35,
     "metadata": {},
     "output_type": "execute_result"
    }
   ],
   "source": [
    "R.mean()"
   ]
  },
  {
   "cell_type": "markdown",
   "id": "c6a19623",
   "metadata": {},
   "source": [
    "###### Mode"
   ]
  },
  {
   "cell_type": "code",
   "execution_count": 39,
   "id": "186b8fda",
   "metadata": {},
   "outputs": [
    {
     "data": {
      "text/plain": [
       "0.08439811265783229"
      ]
     },
     "execution_count": 39,
     "metadata": {},
     "output_type": "execute_result"
    }
   ],
   "source": [
    "R.var()"
   ]
  },
  {
   "cell_type": "markdown",
   "id": "7dd14658",
   "metadata": {},
   "source": [
    "###### Standard deviation"
   ]
  },
  {
   "cell_type": "code",
   "execution_count": 40,
   "id": "71c5c461",
   "metadata": {
    "scrolled": true
   },
   "outputs": [
    {
     "data": {
      "text/plain": [
       "0.29051353265869095"
      ]
     },
     "execution_count": 40,
     "metadata": {},
     "output_type": "execute_result"
    }
   ],
   "source": [
    "R.std()"
   ]
  },
  {
   "cell_type": "markdown",
   "id": "505ec8eb",
   "metadata": {},
   "source": [
    "# Exercises"
   ]
  },
  {
   "cell_type": "markdown",
   "id": "6f63e720",
   "metadata": {},
   "source": [
    "Original link: https://codesolid.com/numpy-practice-questions-to-make-you-an-expert/"
   ]
  },
  {
   "cell_type": "markdown",
   "id": "066e8ca9",
   "metadata": {},
   "source": [
    "### 1-D numpy array exercises"
   ]
  },
  {
   "cell_type": "markdown",
   "id": "371d6e35",
   "metadata": {},
   "source": [
    "Using a NumPy function, how would you create a one-dimensional NumPy array of the numbers from 10 to 100, counting by 10"
   ]
  },
  {
   "cell_type": "code",
   "execution_count": 114,
   "id": "59ec9748",
   "metadata": {},
   "outputs": [
    {
     "data": {
      "text/plain": [
       "array([10, 20, 30, 40, 50, 60, 70, 80, 90])"
      ]
     },
     "execution_count": 114,
     "metadata": {},
     "output_type": "execute_result"
    }
   ],
   "source": [
    "array_10_100_10=np.arange(10,100,10)\n",
    "array_10_100_10"
   ]
  },
  {
   "cell_type": "markdown",
   "id": "9f0a137d",
   "metadata": {},
   "source": [
    "How could you create the same NumPy array using a Python range and a list?"
   ]
  },
  {
   "cell_type": "code",
   "execution_count": 118,
   "id": "907030f3",
   "metadata": {},
   "outputs": [
    {
     "data": {
      "text/plain": [
       "[10, 20, 30, 40, 50, 60, 70, 80, 90]"
      ]
     },
     "execution_count": 118,
     "metadata": {},
     "output_type": "execute_result"
    }
   ],
   "source": [
    "list_10_100_10=[]\n",
    "for e in range(10,100,10):\n",
    "    list_10_100_10.append(e)\n",
    "list_10_100_10"
   ]
  },
  {
   "cell_type": "markdown",
   "id": "cfe07966",
   "metadata": {},
   "source": [
    "How might you create a NumPy array of the capital letters, A-Z?"
   ]
  },
  {
   "cell_type": "code",
   "execution_count": 125,
   "id": "2e318193",
   "metadata": {},
   "outputs": [
    {
     "data": {
      "text/plain": [
       "array(['A', 'B', 'C', 'D', 'E', 'F', 'G', 'H', 'I', 'J', 'K', 'L', 'M',\n",
       "       'N', 'O', 'P', 'Q', 'R', 'S', 'T', 'U', 'V', 'W', 'X', 'Y', 'Z'],\n",
       "      dtype='<U1')"
      ]
     },
     "execution_count": 125,
     "metadata": {},
     "output_type": "execute_result"
    }
   ],
   "source": [
    "import string\n",
    "capital_letters_array=np.array(list(string.ascii_uppercase))\n",
    "capital_letters_array"
   ]
  },
  {
   "cell_type": "markdown",
   "id": "34b3aa05",
   "metadata": {},
   "source": [
    "How would you create a ten-element NumPy array object of all zeros"
   ]
  },
  {
   "cell_type": "code",
   "execution_count": 127,
   "id": "155125ac",
   "metadata": {},
   "outputs": [
    {
     "data": {
      "text/plain": [
       "array([0., 0., 0., 0., 0., 0., 0., 0., 0., 0.])"
      ]
     },
     "execution_count": 127,
     "metadata": {},
     "output_type": "execute_result"
    }
   ],
   "source": [
    "array_zeros=np.zeros(10)\n",
    "array_zeros"
   ]
  },
  {
   "cell_type": "markdown",
   "id": "e53b45a6",
   "metadata": {},
   "source": [
    "What function would return the same number of elements, but of all ones?"
   ]
  },
  {
   "cell_type": "code",
   "execution_count": 128,
   "id": "2e73c400",
   "metadata": {},
   "outputs": [
    {
     "data": {
      "text/plain": [
       "array([1., 1., 1., 1., 1., 1., 1., 1., 1., 1.])"
      ]
     },
     "execution_count": 128,
     "metadata": {},
     "output_type": "execute_result"
    }
   ],
   "source": [
    "#ones\n",
    "array_ones=np.ones(10)\n",
    "array_ones"
   ]
  },
  {
   "cell_type": "markdown",
   "id": "c6f04940",
   "metadata": {},
   "source": [
    "How could you create a ten-element array of random integers between 1 and 5 (inclusive)?"
   ]
  },
  {
   "cell_type": "code",
   "execution_count": 129,
   "id": "d2e32d51",
   "metadata": {},
   "outputs": [
    {
     "data": {
      "text/plain": [
       "array([2, 3, 3, 4, 1, 2, 1, 1, 1, 3])"
      ]
     },
     "execution_count": 129,
     "metadata": {},
     "output_type": "execute_result"
    }
   ],
   "source": [
    "random_array_1_5=np.random.randint(1,5,size=(10))\n",
    "random_array_1_5"
   ]
  },
  {
   "cell_type": "markdown",
   "id": "c24eea78",
   "metadata": {},
   "source": [
    "How can you create a normal distribution of 10 numbers, centered on 5?"
   ]
  },
  {
   "cell_type": "code",
   "execution_count": 131,
   "id": "b9f664c8",
   "metadata": {},
   "outputs": [
    {
     "data": {
      "text/plain": [
       "array([5.89073002, 5.12707731, 4.35996958, 4.44708548, 3.54526912,\n",
       "       6.23250091, 3.93827065, 5.72043282, 4.79399748, 4.61834033])"
      ]
     },
     "execution_count": 131,
     "metadata": {},
     "output_type": "execute_result"
    }
   ],
   "source": [
    "normal_distribution=np.random.normal(5,1,10)\n",
    "normal_distribution"
   ]
  },
  {
   "cell_type": "markdown",
   "id": "69b032f4",
   "metadata": {},
   "source": [
    "What code would create an array of 10 random numbers between zero and one?"
   ]
  },
  {
   "cell_type": "code",
   "execution_count": 136,
   "id": "1a9428d9",
   "metadata": {},
   "outputs": [
    {
     "data": {
      "text/plain": [
       "array([0.0271813 , 0.5057899 , 0.53419389, 0.68070116, 0.72193814,\n",
       "       0.05119129, 0.04525998, 0.89955975, 0.5972212 , 0.62771228])"
      ]
     },
     "execution_count": 136,
     "metadata": {},
     "output_type": "execute_result"
    }
   ],
   "source": [
    "random_number_0_1=np.random.rand(10)\n",
    "random_number_0_1"
   ]
  },
  {
   "cell_type": "markdown",
   "id": "55c1ec29",
   "metadata": {},
   "source": [
    "### Creating and Using Multidimensional Arrays"
   ]
  },
  {
   "cell_type": "markdown",
   "id": "6d6562af",
   "metadata": {},
   "source": [
    "Consider an array named “myarray” that is displayed as in the block below. Return the value 7"
   ]
  },
  {
   "cell_type": "markdown",
   "id": "5cd5a273",
   "metadata": {},
   "source": [
    "* ([[ 1,  2,  3,  4],\n",
    "*  [ 5,  6,  7,  8],\n",
    "*  [ 9, 10, 11, 12]])"
   ]
  },
  {
   "cell_type": "code",
   "execution_count": 20,
   "id": "1b0ac0ba",
   "metadata": {
    "scrolled": true
   },
   "outputs": [
    {
     "data": {
      "text/plain": [
       "array([[ 1,  2,  3,  4],\n",
       "       [ 5,  6,  7,  8],\n",
       "       [ 9, 10, 11, 12]])"
      ]
     },
     "execution_count": 20,
     "metadata": {},
     "output_type": "execute_result"
    }
   ],
   "source": [
    "myarray=(np.arange(1,13)).reshape((3,4))\n",
    "myarray"
   ]
  },
  {
   "cell_type": "code",
   "execution_count": 22,
   "id": "3b3f4a12",
   "metadata": {},
   "outputs": [
    {
     "data": {
      "text/plain": [
       "7"
      ]
     },
     "execution_count": 22,
     "metadata": {},
     "output_type": "execute_result"
    }
   ],
   "source": [
    "myarray[1][2]"
   ]
  },
  {
   "cell_type": "markdown",
   "id": "094222e1",
   "metadata": {},
   "source": [
    "Given myarray as shown above, what is the dimension of the array?"
   ]
  },
  {
   "cell_type": "code",
   "execution_count": 24,
   "id": "c4fa6bb4",
   "metadata": {},
   "outputs": [
    {
     "data": {
      "text/plain": [
       "2"
      ]
     },
     "execution_count": 24,
     "metadata": {},
     "output_type": "execute_result"
    }
   ],
   "source": [
    "myarray.ndim"
   ]
  },
  {
   "cell_type": "markdown",
   "id": "9fd0d9fc",
   "metadata": {},
   "source": [
    "An array of three arrays of four elements each like this has twelve elements, of course. How could you create a new array consisting of two arrays of six elements each?"
   ]
  },
  {
   "cell_type": "code",
   "execution_count": 30,
   "id": "03541ae1",
   "metadata": {},
   "outputs": [
    {
     "data": {
      "text/plain": [
       "array([[ 1,  2,  3,  4],\n",
       "       [ 5,  6,  7,  8],\n",
       "       [ 9, 10, 11, 12]])"
      ]
     },
     "execution_count": 30,
     "metadata": {},
     "output_type": "execute_result"
    }
   ],
   "source": [
    "array_3_4=(np.arange(1,13)).reshape((3,4))\n",
    "array_3_4"
   ]
  },
  {
   "cell_type": "code",
   "execution_count": 36,
   "id": "bad4c2ae",
   "metadata": {},
   "outputs": [],
   "source": [
    "new_array_3_2=np.array_split(array_3_4,2,axis=1)\n",
    "arrray_split1=new_array_3_2[0]\n",
    "\n",
    "arrray_split2=new_array_3_2[1]"
   ]
  },
  {
   "cell_type": "code",
   "execution_count": 37,
   "id": "952144e3",
   "metadata": {
    "scrolled": true
   },
   "outputs": [
    {
     "data": {
      "text/plain": [
       "array([[ 1,  2],\n",
       "       [ 5,  6],\n",
       "       [ 9, 10]])"
      ]
     },
     "execution_count": 37,
     "metadata": {},
     "output_type": "execute_result"
    }
   ],
   "source": [
    "arrray_split1"
   ]
  },
  {
   "cell_type": "code",
   "execution_count": 39,
   "id": "d069d0ab",
   "metadata": {},
   "outputs": [
    {
     "data": {
      "text/plain": [
       "array([[ 3,  4],\n",
       "       [ 7,  8],\n",
       "       [11, 12]])"
      ]
     },
     "execution_count": 39,
     "metadata": {},
     "output_type": "execute_result"
    }
   ],
   "source": [
    "arrray_split2"
   ]
  },
  {
   "cell_type": "markdown",
   "id": "332c4222",
   "metadata": {},
   "source": [
    "How could you create a two-dimensional, 3 x 4 array (three arrays of four elements each) with random numbers from 1 to 10?"
   ]
  },
  {
   "cell_type": "code",
   "execution_count": 42,
   "id": "5cbfe43e",
   "metadata": {},
   "outputs": [
    {
     "data": {
      "text/plain": [
       "array([[5, 8, 4, 6],\n",
       "       [7, 1, 6, 6],\n",
       "       [6, 5, 7, 7]])"
      ]
     },
     "execution_count": 42,
     "metadata": {},
     "output_type": "execute_result"
    }
   ],
   "source": [
    "random_array_3_4=np.random.randint(1,10,size=(3,4))\n",
    "random_array_3_4"
   ]
  },
  {
   "cell_type": "markdown",
   "id": "fc545fc5",
   "metadata": {},
   "source": [
    "How could you create an array of the same size and shape as the previous one, filled with 64-bit integer zeros?"
   ]
  },
  {
   "cell_type": "code",
   "execution_count": 57,
   "id": "e61dbcf1",
   "metadata": {},
   "outputs": [
    {
     "data": {
      "text/plain": [
       "array([[0., 0., 0., 0.],\n",
       "       [0., 0., 0., 0.],\n",
       "       [0., 0., 0., 0.]])"
      ]
     },
     "execution_count": 57,
     "metadata": {},
     "output_type": "execute_result"
    }
   ],
   "source": [
    "zeros_array_3_4=(np.zeros(12)).reshape((3,4))\n",
    "zeros_array_3_4"
   ]
  },
  {
   "cell_type": "markdown",
   "id": "1d0f3cb1",
   "metadata": {},
   "source": [
    "Given an array, named \"arr“, that looks like:"
   ]
  },
  {
   "cell_type": "markdown",
   "id": "4b16ad04",
   "metadata": {},
   "source": [
    "* [[0, 1, 2],\n",
    "*  [3, 4, 5]]"
   ]
  },
  {
   "cell_type": "markdown",
   "id": "def2c806",
   "metadata": {},
   "source": [
    "How could you display an array that looks like:"
   ]
  },
  {
   "cell_type": "markdown",
   "id": "b9fe4770",
   "metadata": {},
   "source": [
    "* [[0, 3],\n",
    "*  [1, 4],\n",
    "*  [2, 5]]"
   ]
  },
  {
   "cell_type": "code",
   "execution_count": 62,
   "id": "b4974dad",
   "metadata": {
    "scrolled": true
   },
   "outputs": [
    {
     "data": {
      "text/plain": [
       "array([[0, 1, 2],\n",
       "       [3, 4, 5]])"
      ]
     },
     "execution_count": 62,
     "metadata": {},
     "output_type": "execute_result"
    }
   ],
   "source": [
    "arr=np.array([[0,1,2],[3,4,5]])\n",
    "arr"
   ]
  },
  {
   "cell_type": "code",
   "execution_count": 66,
   "id": "0ca04924",
   "metadata": {
    "scrolled": true
   },
   "outputs": [
    {
     "data": {
      "text/plain": [
       "array([[0, 3],\n",
       "       [1, 4],\n",
       "       [2, 5]])"
      ]
     },
     "execution_count": 66,
     "metadata": {},
     "output_type": "execute_result"
    }
   ],
   "source": [
    "arr.transpose()"
   ]
  },
  {
   "cell_type": "markdown",
   "id": "5959ff29",
   "metadata": {},
   "source": [
    "### Indexing and Slicing Two-Dimensional Arrays"
   ]
  },
  {
   "cell_type": "markdown",
   "id": "c2bbe7ae",
   "metadata": {},
   "source": [
    "Given the following four_by_five array. Write a statement that prints the first row. (It will be a five-element array)"
   ]
  },
  {
   "cell_type": "markdown",
   "id": "2f97a1d8",
   "metadata": {},
   "source": [
    "* [[ 1,  2,  3,  4,  5],\n",
    "*  [ 6,  7,  8,  9, 10],\n",
    "*  [11, 12, 13, 14, 15],\n",
    "*  [16, 17, 18, 19, 20]]"
   ]
  },
  {
   "cell_type": "code",
   "execution_count": 80,
   "id": "bd65c7e4",
   "metadata": {},
   "outputs": [
    {
     "data": {
      "text/plain": [
       "array([[ 1,  2,  3,  4,  5],\n",
       "       [ 6,  7,  8,  9, 10],\n",
       "       [11, 12, 13, 14, 15],\n",
       "       [16, 17, 18, 19, 20]])"
      ]
     },
     "execution_count": 80,
     "metadata": {},
     "output_type": "execute_result"
    }
   ],
   "source": [
    "four_by_five=(np.arange(1,21)).reshape((4,5))\n",
    "four_by_five"
   ]
  },
  {
   "cell_type": "code",
   "execution_count": 81,
   "id": "4773dbaf",
   "metadata": {},
   "outputs": [
    {
     "data": {
      "text/plain": [
       "array([1, 2, 3, 4, 5])"
      ]
     },
     "execution_count": 81,
     "metadata": {},
     "output_type": "execute_result"
    }
   ],
   "source": [
    "four_by_five[0]"
   ]
  },
  {
   "cell_type": "markdown",
   "id": "f9cb73c1",
   "metadata": {},
   "source": [
    "Using the same four_by_five array.Write an expression to print the last row. (It will be a five-element array)."
   ]
  },
  {
   "cell_type": "code",
   "execution_count": 82,
   "id": "15bae6b9",
   "metadata": {},
   "outputs": [
    {
     "data": {
      "text/plain": [
       "array([16, 17, 18, 19, 20])"
      ]
     },
     "execution_count": 82,
     "metadata": {},
     "output_type": "execute_result"
    }
   ],
   "source": [
    "four_by_five[-1]"
   ]
  },
  {
   "cell_type": "markdown",
   "id": "976050ac",
   "metadata": {},
   "source": [
    "Using the same four_by_five array.Print the 14 value"
   ]
  },
  {
   "cell_type": "code",
   "execution_count": 84,
   "id": "0afb19fa",
   "metadata": {},
   "outputs": [
    {
     "data": {
      "text/plain": [
       "14"
      ]
     },
     "execution_count": 84,
     "metadata": {},
     "output_type": "execute_result"
    }
   ],
   "source": [
    "four_by_five[2][3]"
   ]
  },
  {
   "cell_type": "markdown",
   "id": "7e0dd68b",
   "metadata": {},
   "source": [
    "Using the same four_by_five array.How could you display the first column? It will be a (four-element array ending with 16.)"
   ]
  },
  {
   "cell_type": "code",
   "execution_count": 95,
   "id": "0b437cc7",
   "metadata": {},
   "outputs": [
    {
     "data": {
      "text/plain": [
       "array([ 1,  6, 11, 16])"
      ]
     },
     "execution_count": 95,
     "metadata": {},
     "output_type": "execute_result"
    }
   ],
   "source": [
    "four_by_five[:,0]"
   ]
  },
  {
   "cell_type": "markdown",
   "id": "a273b46a",
   "metadata": {},
   "source": [
    "Using the same four_by_five array.Display the last two colums"
   ]
  },
  {
   "cell_type": "code",
   "execution_count": 104,
   "id": "b20ced9e",
   "metadata": {},
   "outputs": [
    {
     "data": {
      "text/plain": [
       "array([[ 4,  5],\n",
       "       [ 9, 10],\n",
       "       [14, 15],\n",
       "       [19, 20]])"
      ]
     },
     "execution_count": 104,
     "metadata": {},
     "output_type": "execute_result"
    }
   ],
   "source": [
    "four_by_five[:,3:]"
   ]
  },
  {
   "cell_type": "markdown",
   "id": "174bcddc",
   "metadata": {},
   "source": [
    "Using the same four_by_five array.Write an expression to return the last two columns of the middle two rows."
   ]
  },
  {
   "cell_type": "code",
   "execution_count": 105,
   "id": "dcc65424",
   "metadata": {},
   "outputs": [
    {
     "data": {
      "text/plain": [
       "array([[ 9, 10],\n",
       "       [14, 15]])"
      ]
     },
     "execution_count": 105,
     "metadata": {},
     "output_type": "execute_result"
    }
   ],
   "source": [
    "four_by_five[1:3,3:]"
   ]
  }
 ],
 "metadata": {
  "kernelspec": {
   "display_name": "Python 3 (ipykernel)",
   "language": "python",
   "name": "python3"
  },
  "language_info": {
   "codemirror_mode": {
    "name": "ipython",
    "version": 3
   },
   "file_extension": ".py",
   "mimetype": "text/x-python",
   "name": "python",
   "nbconvert_exporter": "python",
   "pygments_lexer": "ipython3",
   "version": "3.11.4"
  }
 },
 "nbformat": 4,
 "nbformat_minor": 5
}
